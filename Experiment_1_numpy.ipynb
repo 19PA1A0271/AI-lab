{
  "nbformat": 4,
  "nbformat_minor": 0,
  "metadata": {
    "colab": {
      "name": "Experiment 1 numpy.ipynb",
      "provenance": [],
      "authorship_tag": "ABX9TyPyVntlNeLwUU8CBUNUFnVU",
      "include_colab_link": true
    },
    "kernelspec": {
      "name": "python3",
      "display_name": "Python 3"
    }
  },
  "cells": [
    {
      "cell_type": "markdown",
      "metadata": {
        "id": "view-in-github",
        "colab_type": "text"
      },
      "source": [
        "<a href=\"https://colab.research.google.com/github/19PA1A0271/AI-lab/blob/master/Experiment_1_numpy.ipynb\" target=\"_parent\"><img src=\"https://colab.research.google.com/assets/colab-badge.svg\" alt=\"Open In Colab\"/></a>"
      ]
    },
    {
      "cell_type": "markdown",
      "metadata": {
        "id": "26-hLeDwcV5c",
        "colab_type": "text"
      },
      "source": [
        " 1) Experiment 1:Numpy"
      ]
    },
    {
      "cell_type": "markdown",
      "metadata": {
        "id": "q97wUpbKcdAd",
        "colab_type": "text"
      },
      "source": [
        "1)Different ways to creat Numpy arrays"
      ]
    },
    {
      "cell_type": "code",
      "metadata": {
        "id": "ihgfY-hjcx4N",
        "colab_type": "code",
        "colab": {
          "base_uri": "https://localhost:8080/",
          "height": 34
        },
        "outputId": "262e14e6-beb0-48e1-a756-8e5715684cc9"
      },
      "source": [
        " \n",
        "import numpy as np\n",
        "a = np.array([2,6,9]) \n",
        "print (a)"
      ],
      "execution_count": null,
      "outputs": [
        {
          "output_type": "stream",
          "text": [
            "[2 6 9]\n"
          ],
          "name": "stdout"
        }
      ]
    },
    {
      "cell_type": "code",
      "metadata": {
        "id": "ZObSciBQi-vt",
        "colab_type": "code",
        "colab": {
          "base_uri": "https://localhost:8080/",
          "height": 51
        },
        "outputId": "bcc852ea-580d-4380-deae-6a50f973bfca"
      },
      "source": [
        " \n",
        "a = np.array([[1, 2], [3, 4]]) \n",
        "print (a)"
      ],
      "execution_count": null,
      "outputs": [
        {
          "output_type": "stream",
          "text": [
            "[[1 2]\n",
            " [3 4]]\n"
          ],
          "name": "stdout"
        }
      ]
    },
    {
      "cell_type": "markdown",
      "metadata": {
        "id": "_XUyy6R1jryb",
        "colab_type": "text"
      },
      "source": [
        " 2)Add,remove,modify elements in an array"
      ]
    },
    {
      "cell_type": "code",
      "metadata": {
        "id": "SLzMTs-ZlVXn",
        "colab_type": "code",
        "colab": {
          "base_uri": "https://localhost:8080/",
          "height": 34
        },
        "outputId": "9aa6def5-53da-4ad7-9728-5d63edb4c24a"
      },
      "source": [
        " \n",
        "newArray = np.append(a,[44,36,48])\n",
        "print(newArray)"
      ],
      "execution_count": null,
      "outputs": [
        {
          "output_type": "stream",
          "text": [
            "[ 1  2  3  4 44 36 48]\n"
          ],
          "name": "stdout"
        }
      ]
    },
    {
      "cell_type": "code",
      "metadata": {
        "id": "CEr6H6Ix1ViP",
        "colab_type": "code",
        "colab": {
          "base_uri": "https://localhost:8080/",
          "height": 34
        },
        "outputId": "172aa186-7596-4373-a0b5-d57cc4151c1b"
      },
      "source": [
        " \n",
        "import numpy as np\n",
        "l=np.array([4,6,9,3,7])\n",
        "l=np.delete(l,4)\n",
        "print(l)"
      ],
      "execution_count": null,
      "outputs": [
        {
          "output_type": "stream",
          "text": [
            "[4 6 9 3]\n"
          ],
          "name": "stdout"
        }
      ]
    },
    {
      "cell_type": "code",
      "metadata": {
        "id": "SZjHiJXS2Vg4",
        "colab_type": "code",
        "colab": {
          "base_uri": "https://localhost:8080/",
          "height": 34
        },
        "outputId": "669f6605-ae8f-498b-f914-e535db39ddb1"
      },
      "source": [
        " \n",
        "b=np.array([9,6,4,1,8,5])\n",
        "b[b<2]=-1\n",
        "print(b)"
      ],
      "execution_count": null,
      "outputs": [
        {
          "output_type": "stream",
          "text": [
            "[ 9  6  4 -1  8  5]\n"
          ],
          "name": "stdout"
        }
      ]
    },
    {
      "cell_type": "markdown",
      "metadata": {
        "id": "VHJ9m0ot210Y",
        "colab_type": "text"
      },
      "source": [
        "3) Arthematic operations on Numpy arrays"
      ]
    },
    {
      "cell_type": "code",
      "metadata": {
        "id": "ruIWIbOa4rao",
        "colab_type": "code",
        "colab": {
          "base_uri": "https://localhost:8080/",
          "height": 853
        },
        "outputId": "b6ec12df-4387-4aa6-ba31-c129f3cd0d56"
      },
      "source": [
        "import numpy as np\n",
        "v=np.random.random((8,8))\n",
        "n=np.random.random((8,8))\n",
        "sum=np.add(v,n)\n",
        "diff=np.subtract(v,n)\n",
        "prod=np.multiply(v,n)\n",
        "quo=np.divide(v,n)\n",
        "mod=np.mod(v,n)\n",
        "pow=np.power(v,n)\n",
        "print(sum)\n",
        "print(diff)\n",
        "print(prod) \n",
        "Print(quo) \n",
        "Print(mod) \n",
        "Print(pow)"
      ],
      "execution_count": null,
      "outputs": [
        {
          "output_type": "stream",
          "text": [
            "[[1.63646426 0.36328055 1.2276298  0.76085629 0.79723517 1.1350244\n",
            "  0.35646538 0.65359005]\n",
            " [0.60865251 1.29038635 0.57832295 1.1418653  0.56060486 1.84366163\n",
            "  1.21627999 0.78817739]\n",
            " [1.23229846 1.28827892 1.69346736 0.85750053 0.91694554 0.89260569\n",
            "  1.18593978 0.55371241]\n",
            " [0.79595041 0.83402977 0.88722095 1.00169442 1.43191357 0.9192413\n",
            "  1.13924996 1.18147081]\n",
            " [0.82256796 1.32754943 1.4556449  1.22331281 1.12286999 1.09226746\n",
            "  1.16431334 0.26347468]\n",
            " [1.47626722 0.52782955 1.85391436 1.37426871 0.95229916 1.1349815\n",
            "  1.1541851  1.34817772]\n",
            " [1.78721755 1.05065817 1.18823031 0.7183024  1.103255   0.73587142\n",
            "  1.17689056 1.01707392]\n",
            " [0.34139047 1.25587283 0.58480152 0.86114441 0.1711296  0.59678215\n",
            "  1.87501764 0.86321424]]\n",
            "[[-0.36147835  0.18543522 -0.2382089  -0.33300048 -0.57635205  0.21343219\n",
            "  -0.19055567  0.29546835]\n",
            " [ 0.10261148 -0.02370755  0.11089849  0.27924698  0.16645063  0.12880958\n",
            "   0.47732787 -0.69839715]\n",
            " [-0.20206638 -0.37463184  0.26178766  0.33222392  0.49340974  0.47806957\n",
            "   0.26132431 -0.42538353]\n",
            " [-0.01862266  0.31685589  0.63244237  0.10012568 -0.07783494  0.72970011\n",
            "   0.54140406 -0.40215401]\n",
            " [-0.70662228  0.52388294  0.26589715 -0.56852942  0.54185383 -0.70948442\n",
            "  -0.40405976  0.24655399]\n",
            " [ 0.42863737 -0.34498244 -0.00549521  0.09486942  0.52444956 -0.12826097\n",
            "   0.18789712 -0.48029579]\n",
            " [-0.05699449 -0.90771852 -0.1249504  -0.46198803 -0.41911257 -0.39593479\n",
            "  -0.15358001 -0.42776593]\n",
            " [-0.05386336  0.4587826  -0.22095706 -0.43805741 -0.11933084 -0.00225275\n",
            "   0.05848038  0.49856283]]\n",
            "[[0.63683717 0.02439663 0.36258286 0.11700325 0.07585056 0.31068177\n",
            "  0.02268903 0.0849696 ]\n",
            " [0.08998219 0.41613372 0.08053974 0.30646937 0.071643   0.84562408\n",
            "  0.31287378 0.03336625]\n",
            " [0.36943217 0.37982839 0.69982473 0.15623361 0.14933399 0.1420486\n",
            "  0.33454069 0.03141157]\n",
            " [0.15829756 0.148802   0.09679441 0.24834164 0.51107955 0.07813558\n",
            "  0.25119303 0.30853635]\n",
            " [0.04432575 0.37198354 0.5120502  0.29331713 0.24180786 0.17242002\n",
            "  0.29809032 0.00215751]\n",
            " [0.49890873 0.03989779 0.85924207 0.46990357 0.15795659 0.31793303\n",
            "  0.32420948 0.39672478]\n",
            " [0.79772455 0.06998242 0.34906967 0.07563135 0.26037906 0.0961856\n",
            "  0.34037114 0.21286392]\n",
            " [0.02841155 0.34168377 0.0732927  0.13741885 0.00376137 0.08903597\n",
            "  0.8780678  0.12414348]]\n"
          ],
          "name": "stdout"
        }
      ]
    },
    {
      "cell_type": "markdown",
      "metadata": {
        "id": "GQex3s0C6bWb",
        "colab_type": "text"
      },
      "source": [
        " 4) Slicing and iterating of Numpy arrays"
      ]
    },
    {
      "cell_type": "markdown",
      "metadata": {
        "id": "aX-4NfQW6vep",
        "colab_type": "text"
      },
      "source": [
        "Slicing"
      ]
    },
    {
      "cell_type": "code",
      "metadata": {
        "id": "1iskSibc60Zu",
        "colab_type": "code",
        "colab": {
          "base_uri": "https://localhost:8080/",
          "height": 34
        },
        "outputId": "e741e183-4bae-49e9-b6bb-2d29860cc302"
      },
      "source": [
        " \n",
        "import numpy as np\n",
        "arr=np.array([4,5,6,8,9,7])\n",
        "print(arr[2:6])"
      ],
      "execution_count": null,
      "outputs": [
        {
          "output_type": "stream",
          "text": [
            "[6 8 9 7]\n"
          ],
          "name": "stdout"
        }
      ]
    },
    {
      "cell_type": "markdown",
      "metadata": {
        "id": "vfsBRhAz79BA",
        "colab_type": "text"
      },
      "source": [
        "Iterating"
      ]
    },
    {
      "cell_type": "code",
      "metadata": {
        "id": "NkgLf4358Ae9",
        "colab_type": "code",
        "colab": {
          "base_uri": "https://localhost:8080/",
          "height": 119
        },
        "outputId": "5894764c-c052-41f4-caf4-76c4c004b17d"
      },
      "source": [
        "for i in arr: \n",
        "  print(i)"
      ],
      "execution_count": null,
      "outputs": [
        {
          "output_type": "stream",
          "text": [
            "4\n",
            "5\n",
            "6\n",
            "8\n",
            "9\n",
            "7\n"
          ],
          "name": "stdout"
        }
      ]
    },
    {
      "cell_type": "markdown",
      "metadata": {
        "id": "tc4kNDCt8h7A",
        "colab_type": "text"
      },
      "source": [
        "5) Matrix operation on Numpy arrays"
      ]
    },
    {
      "cell_type": "code",
      "metadata": {
        "id": "wNgKUuI88pHV",
        "colab_type": "code",
        "colab": {
          "base_uri": "https://localhost:8080/",
          "height": 119
        },
        "outputId": "65553974-4a6b-4b52-b313-e38d2ef338c4"
      },
      "source": [
        " \n",
        "import numpy as np\n",
        "v=np.array([[5,9],[4,3]])\n",
        "i=np.array([[2,16],[1,12]])\n",
        "print(np.add(v,i))\n",
        "print(np.subtract(v,i))\n",
        "print(np.divide(v,i))"
      ],
      "execution_count": null,
      "outputs": [
        {
          "output_type": "stream",
          "text": [
            "[[ 7 25]\n",
            " [ 5 15]]\n",
            "[[ 3 -7]\n",
            " [ 3 -9]]\n",
            "[[2.5    0.5625]\n",
            " [4.     0.25  ]]\n"
          ],
          "name": "stdout"
        }
      ]
    }
  ]
}